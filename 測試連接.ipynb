{
 "cells": [
  {
   "cell_type": "code",
   "execution_count": 16,
   "metadata": {},
   "outputs": [
    {
     "name": "stdout",
     "output_type": "stream",
     "text": [
      "等待连接...\n",
      "连接来自: ('140.118.7.83', 33060)\n",
      "['\"12345\",\"567\",\"8910\",\"M11107509\",\"qoskfk\",\"M11107509\"', '\"AKS-5555\",\"1849#!\",\"AKS-5555\"']\n",
      "POST / HTTP/1.1\n",
      "Content-Length: 86\n",
      "Content-Type: application/x-www-form-urlencoded\n",
      "User-Agent: Dalvik/2.1.0 (Linux; U; Android 13; Pixel 6a Build/TQ2A.230505.002)\n",
      "Host: 140.118.170.128:12345\n",
      "Connection: Keep-Alive\n",
      "Accept-Encoding: gzip\n",
      "\n",
      "\"12345\",\"567\",\"8910\",\"M11107509\",\"qoskfk\",\"M11107509\"%%%\"AKS-5555\",\"1849#!\",\"AKS-5555\"\n",
      "['12345', '567', '8910', 'M11107509', 'qoskfk', 'M11107509']\n",
      "['AKS-5555', '1849#!', 'AKS-5555']\n",
      "['AKS-5555', '1849#!', 'AKS-5555']\n"
     ]
    }
   ],
   "source": [
    "import socket\n",
    "import contact_to_server\n",
    "HOST = '140.118.170.128'  # 主机名\n",
    "PORT = 12345  # 端口号\n",
    "\n",
    "# 创建套接字\n",
    "server_socket = socket.socket(socket.AF_INET, socket.SOCK_STREAM)\n",
    "server_socket.bind((HOST, PORT))\n",
    "server_socket.listen(1)  # 监听连接\n",
    "\n",
    "print('等待连接...')\n",
    "client_socket, address = server_socket.accept()\n",
    "print('连接来自:', address)\n",
    "\n",
    "# 接收消息\n",
    "while True:\n",
    "    data = client_socket.recv(1024).decode('utf-8')\n",
    "    if not data:\n",
    "        break\n",
    "    lines = data.split('\\n')\n",
    "    lines= lines[-1].split('%%%')\n",
    "    print(lines)\n",
    "    break\n",
    "    \n",
    "\n",
    "print(data)\n",
    "# 关闭连接\n",
    "client_socket.close()\n",
    "server_socket.close()\n",
    "number=lines[0]\n",
    "plate=lines[1]\n",
    "number = number.replace(\"\\\"\", \"\")\n",
    "number=number.split(\",\")\n",
    "plate = plate.replace(\"\\\"\", \"\")\n",
    "plate=plate.split(\",\")\n",
    "print(number)\n",
    "print(plate)\n",
    "contact_to_server.update_car_information(plate)\n",
    "contact_to_server.update_id_list(number)"
   ]
  },
  {
   "cell_type": "code",
   "execution_count": 13,
   "metadata": {},
   "outputs": [
    {
     "name": "stdout",
     "output_type": "stream",
     "text": [
      "['AKS-5555']\n"
     ]
    }
   ],
   "source": [
    "contact_to_server.update_id_list(number)\n",
    "contact_to_server.update_car_information(plate)"
   ]
  },
  {
   "cell_type": "code",
   "execution_count": 15,
   "metadata": {},
   "outputs": [
    {
     "ename": "NameError",
     "evalue": "name 'con' is not defined",
     "output_type": "error",
     "traceback": [
      "\u001b[1;31m---------------------------------------------------------------------------\u001b[0m",
      "\u001b[1;31mNameError\u001b[0m                                 Traceback (most recent call last)",
      "\u001b[1;32m<ipython-input-15-c6a334c3e538>\u001b[0m in \u001b[0;36m<module>\u001b[1;34m\u001b[0m\n\u001b[1;32m----> 1\u001b[1;33m \u001b[0mcon\u001b[0m\u001b[1;33m\u001b[0m\u001b[1;33m\u001b[0m\u001b[0m\n\u001b[0m",
      "\u001b[1;31mNameError\u001b[0m: name 'con' is not defined"
     ]
    }
   ],
   "source": [
    "con     "
   ]
  },
  {
   "cell_type": "code",
   "execution_count": 2,
   "metadata": {},
   "outputs": [],
   "source": [
    "X=contact_to_server.get_car_information()"
   ]
  },
  {
   "cell_type": "code",
   "execution_count": null,
   "metadata": {},
   "outputs": [],
   "source": [
    "contact_to_server.update_id_list(number)\n"
   ]
  },
  {
   "cell_type": "code",
   "execution_count": 8,
   "metadata": {},
   "outputs": [
    {
     "name": "stdout",
     "output_type": "stream",
     "text": [
      "['AKS-5555']\n"
     ]
    }
   ],
   "source": [
    "\n"
   ]
  },
  {
   "cell_type": "code",
   "execution_count": 9,
   "metadata": {},
   "outputs": [
    {
     "data": {
      "text/plain": [
       "['12345', '567', '8910', 'M11107059']"
      ]
     },
     "execution_count": 9,
     "metadata": {},
     "output_type": "execute_result"
    }
   ],
   "source": [
    "contact_to_server.get_id_list()"
   ]
  },
  {
   "cell_type": "code",
   "execution_count": 4,
   "metadata": {},
   "outputs": [
    {
     "name": "stdout",
     "output_type": "stream",
     "text": [
      "等待连接...\n",
      "连接来自: ('140.118.7.83', 46896)\n",
      "['\"12345\",\"567\",\"8910\",\"M11107059\"', '\"AKS-5555\"']\n",
      "POST / HTTP/1.1\n",
      "Content-Length: 45\n",
      "Content-Type: application/x-www-form-urlencoded\n",
      "User-Agent: Dalvik/2.1.0 (Linux; U; Android 13; Pixel 6a Build/TQ2A.230505.002)\n",
      "Host: 140.118.170.128:12345\n",
      "Connection: Keep-Alive\n",
      "Accept-Encoding: gzip\n",
      "\n",
      "\"12345\",\"567\",\"8910\",\"M11107059\"%%%\"AKS-5555\"\n",
      "['12345', '567', '8910', 'M11107059']\n",
      "['AKS-5555']\n"
     ]
    }
   ],
   "source": [
    "import socket\n",
    "\n",
    "HOST = '140.118.170.128'  # 主机名\n",
    "PORT = 12345  # 端口号\n",
    "\n",
    "# 创建套接字\n",
    "server_socket = socket.socket(socket.AF_INET, socket.SOCK_STREAM)\n",
    "server_socket.bind((HOST, PORT))\n",
    "server_socket.listen(1)  # 监听连接\n",
    "\n",
    "print('等待连接...')\n",
    "client_socket, address = server_socket.accept()\n",
    "print('连接来自:', address)\n",
    "\n",
    "# 接收消息\n",
    "while True:\n",
    "    data = client_socket.recv(1024).decode('utf-8')\n",
    "    if not data:\n",
    "        break\n",
    "    lines = data.split('\\n')\n",
    "    lines= lines[-1].split('%%%')\n",
    "    print(lines)\n",
    "    break\n",
    "    \n",
    "\n",
    "print(data)\n",
    "# 关闭连接\n",
    "client_socket.close()\n",
    "server_socket.close()\n",
    "number=lines[0]\n",
    "plate=lines[1]\n",
    "number = number.replace(\"\\\"\", \"\")\n",
    "number=number.split(\",\")\n",
    "plate = plate.replace(\"\\\"\", \"\")\n",
    "plate=plate.split(\",\")\n",
    "print(number)\n",
    "print(plate)"
   ]
  },
  {
   "cell_type": "code",
   "execution_count": null,
   "metadata": {},
   "outputs": [],
   "source": [
    "number=lines[0]\n",
    "plate=lines[1]\n",
    "number = number.replace(\"\\\"\", \"\")\n",
    "number=number.split(\",\")\n",
    "plate = plate.replace(\"\\\"\", \"\")\n",
    "plate=plate.split(\",\")"
   ]
  },
  {
   "cell_type": "code",
   "execution_count": 3,
   "metadata": {},
   "outputs": [],
   "source": [
    "import pickle\n",
    "import socket\n",
    "import time\n",
    "import cv2\n",
    "def update_car_information(car_list):\n",
    "    s = socket.socket(socket.AF_INET, socket.SOCK_STREAM)\n",
    "    receiver_ip = '192.168.137.76'\n",
    "    receiver_port = 12345\n",
    "    s.connect((receiver_ip, receiver_port))\n",
    "    # 要傳送的數據\n",
    "    data = 'update_car_information'\n",
    "    # 傳送數據\n",
    "    s.sendall(data.encode())\n",
    "    # 更新car_list\n",
    "    time.sleep(1)\n",
    "    data = pickle.dumps(car_list)\n",
    "    s.sendall(data)\n",
    "    print(car_list)\n",
    "    s.close()\n"
   ]
  },
  {
   "cell_type": "code",
   "execution_count": 4,
   "metadata": {},
   "outputs": [
    {
     "name": "stdout",
     "output_type": "stream",
     "text": [
      "['skskksbdj']\n"
     ]
    }
   ],
   "source": [
    "update_car_information(plate)"
   ]
  },
  {
   "cell_type": "code",
   "execution_count": null,
   "metadata": {},
   "outputs": [],
   "source": [
    "plate"
   ]
  },
  {
   "cell_type": "code",
   "execution_count": null,
   "metadata": {},
   "outputs": [],
   "source": [
    "number = number.replace(\"\\\"\", \"\")\n",
    "number=number.split(\",\")"
   ]
  },
  {
   "cell_type": "code",
   "execution_count": null,
   "metadata": {},
   "outputs": [],
   "source": [
    "import socket\n",
    "\n",
    "HOST = '140.118.170.128'\n",
    "PORT = 12345  # 端口号\n"
   ]
  },
  {
   "cell_type": "code",
   "execution_count": null,
   "metadata": {},
   "outputs": [],
   "source": [
    "import socket\n",
    "server_socket = socket.socket(socket.AF_INET, socket.SOCK_STREAM)\n",
    "server_socket.bind((HOST, PORT))"
   ]
  },
  {
   "cell_type": "code",
   "execution_count": null,
   "metadata": {},
   "outputs": [],
   "source": [
    "server_socket"
   ]
  }
 ],
 "metadata": {
  "kernelspec": {
   "display_name": "3.6.13",
   "language": "python",
   "name": "python3"
  },
  "language_info": {
   "codemirror_mode": {
    "name": "ipython",
    "version": 3
   },
   "file_extension": ".py",
   "mimetype": "text/x-python",
   "name": "python",
   "nbconvert_exporter": "python",
   "pygments_lexer": "ipython3",
   "version": "3.6.13"
  },
  "orig_nbformat": 4
 },
 "nbformat": 4,
 "nbformat_minor": 2
}
