{
 "cells": [
  {
   "cell_type": "code",
   "execution_count": 1,
   "metadata": {},
   "outputs": [
    {
     "name": "stdout",
     "output_type": "stream",
     "text": [
      "[2023/06/14 03:23:49] ppocr DEBUG: Namespace(help='==SUPPRESS==', use_gpu=False, use_xpu=False, use_npu=False, ir_optim=True, use_tensorrt=False, min_subgraph_size=15, precision='fp32', gpu_mem=500, image_dir=None, page_num=0, det_algorithm='DB', det_model_dir='C:\\\\Users\\\\a23a2/.paddleocr/whl\\\\det\\\\en\\\\en_PP-OCRv3_det_infer', det_limit_side_len=960, det_limit_type='max', det_box_type='quad', det_db_thresh=0.3, det_db_box_thresh=0.6, det_db_unclip_ratio=1.5, max_batch_size=10, use_dilation=False, det_db_score_mode='slow', det_east_score_thresh=0.8, det_east_cover_thresh=0.1, det_east_nms_thresh=0.2, det_sast_score_thresh=0.5, det_sast_nms_thresh=0.2, det_pse_thresh=0, det_pse_box_thresh=0.85, det_pse_min_area=16, det_pse_scale=1, scales=[8, 16, 32], alpha=1.0, beta=1.0, fourier_degree=5, rec_algorithm='SVTR_LCNet', rec_model_dir='C:\\\\Users\\\\a23a2/.paddleocr/whl\\\\rec\\\\en\\\\en_PP-OCRv3_rec_infer', rec_image_inverse=True, rec_image_shape='3, 48, 320', rec_batch_num=6, max_text_length=25, rec_char_dict_path='c:\\\\Users\\\\a23a2\\\\anaconda3\\\\envs\\\\work\\\\lib\\\\site-packages\\\\paddleocr\\\\ppocr\\\\utils\\\\en_dict.txt', use_space_char=True, vis_font_path='./doc/fonts/simfang.ttf', drop_score=0, e2e_algorithm='PGNet', e2e_model_dir=None, e2e_limit_side_len=768, e2e_limit_type='max', e2e_pgnet_score_thresh=0.5, e2e_char_dict_path='./ppocr/utils/ic15_dict.txt', e2e_pgnet_valid_set='totaltext', e2e_pgnet_mode='fast', use_angle_cls=True, cls_model_dir='C:\\\\Users\\\\a23a2/.paddleocr/whl\\\\cls\\\\ch_ppocr_mobile_v2.0_cls_infer', cls_image_shape='3, 48, 192', label_list=['0', '180'], cls_batch_num=6, cls_thresh=0.9, enable_mkldnn=True, cpu_threads=10, use_pdserving=False, warmup=False, sr_model_dir=None, sr_image_shape='3, 32, 128', sr_batch_num=1, draw_img_save_dir='./inference_results', save_crop_res=False, crop_res_save_dir='./output', use_mp=False, total_process_num=1, process_id=0, benchmark=False, save_log_path='./log_output/', show_log=True, use_onnx=False, output='./output', table_max_len=488, table_algorithm='TableAttn', table_model_dir=None, merge_no_span_structure=True, table_char_dict_path=None, layout_model_dir=None, layout_dict_path=None, layout_score_threshold=0.5, layout_nms_threshold=0.5, kie_algorithm='LayoutXLM', ser_model_dir=None, re_model_dir=None, use_visual_backbone=True, ser_dict_path='../train_data/XFUND/class_list_xfun.txt', ocr_order_method=None, mode='structure', image_orientation=False, layout=True, table=True, ocr=True, recovery=False, use_pdf2docx_api=False, lang='en', det=True, rec=True, type='ocr', ocr_version='PP-OCRv3', structure_version='PP-StructureV2', det_max_side_len=3200)\n"
     ]
    }
   ],
   "source": []
  },
  {
   "cell_type": "code",
   "execution_count": 1,
   "metadata": {},
   "outputs": [],
   "source": [
    "import os\n",
    "import time\n",
    "import random\n",
    "import math\n",
    "import sys\n",
    "from glob import glob\n",
    "from typing import List, Tuple\n",
    "from difflib import SequenceMatcher\n",
    "import ipywidgets as widgets\n",
    "from IPython.display import display\n",
    "import cv2\n",
    "import numpy as np\n",
    "from PIL import Image, ImageDraw, ImageFont\n",
    "import matplotlib.pyplot as plt\n",
    "import matplotlib\n",
    "from mpl_toolkits.mplot3d import Axes3D\n",
    "import imageio\n",
    "\n",
    "from tqdm import tqdm, trange\n",
    "\n",
    "from sklearn import cluster\n",
    "from sklearn.mixture import GaussianMixture as GMM\n",
    "from sklearn.cluster import KMeans\n",
    "from sklearn import mixture\n",
    "from sklearn import manifold\n",
    "from typing import List\n",
    "\n",
    "from paddleocr import PaddleOCR, draw_ocr\n",
    "from paddleocr import paddleocr\n",
    "import speech_recognition as sr\n",
    "import re\n",
    "\n",
    "import time\n",
    "import cv2\n",
    "import contact_to_server\n",
    "import serial\n",
    "import numpy as np\n",
    "r = sr.Recognizer()\n",
    "YAPS=0\n",
    "pattern = r\"[A-Z]\\d{8}\""
   ]
  },
  {
   "cell_type": "code",
   "execution_count": 15,
   "metadata": {},
   "outputs": [
    {
     "data": {
      "text/plain": [
       "0"
      ]
     },
     "execution_count": 15,
     "metadata": {},
     "output_type": "execute_result"
    }
   ],
   "source": []
  },
  {
   "cell_type": "code",
   "execution_count": 3,
   "metadata": {},
   "outputs": [
    {
     "name": "stdout",
     "output_type": "stream",
     "text": [
      "[2023/06/14 10:51:31] ppocr DEBUG: Namespace(help='==SUPPRESS==', use_gpu=False, use_xpu=False, use_npu=False, ir_optim=True, use_tensorrt=False, min_subgraph_size=15, precision='fp32', gpu_mem=500, image_dir=None, page_num=0, det_algorithm='DB', det_model_dir='C:\\\\Users\\\\a23a2/.paddleocr/whl\\\\det\\\\en\\\\en_PP-OCRv3_det_infer', det_limit_side_len=960, det_limit_type='max', det_box_type='quad', det_db_thresh=0.3, det_db_box_thresh=0.6, det_db_unclip_ratio=1.5, max_batch_size=10, use_dilation=False, det_db_score_mode='slow', det_east_score_thresh=0.8, det_east_cover_thresh=0.1, det_east_nms_thresh=0.2, det_sast_score_thresh=0.5, det_sast_nms_thresh=0.2, det_pse_thresh=0, det_pse_box_thresh=0.85, det_pse_min_area=16, det_pse_scale=1, scales=[8, 16, 32], alpha=1.0, beta=1.0, fourier_degree=5, rec_algorithm='SVTR_LCNet', rec_model_dir='C:\\\\Users\\\\a23a2/.paddleocr/whl\\\\rec\\\\en\\\\en_PP-OCRv3_rec_infer', rec_image_inverse=True, rec_image_shape='3, 48, 320', rec_batch_num=6, max_text_length=25, rec_char_dict_path='c:\\\\Users\\\\a23a2\\\\anaconda3\\\\envs\\\\work\\\\lib\\\\site-packages\\\\paddleocr\\\\ppocr\\\\utils\\\\en_dict.txt', use_space_char=True, vis_font_path='./doc/fonts/simfang.ttf', drop_score=0, e2e_algorithm='PGNet', e2e_model_dir=None, e2e_limit_side_len=768, e2e_limit_type='max', e2e_pgnet_score_thresh=0.5, e2e_char_dict_path='./ppocr/utils/ic15_dict.txt', e2e_pgnet_valid_set='totaltext', e2e_pgnet_mode='fast', use_angle_cls=True, cls_model_dir='C:\\\\Users\\\\a23a2/.paddleocr/whl\\\\cls\\\\ch_ppocr_mobile_v2.0_cls_infer', cls_image_shape='3, 48, 192', label_list=['0', '180'], cls_batch_num=6, cls_thresh=0.9, enable_mkldnn=True, cpu_threads=10, use_pdserving=False, warmup=False, sr_model_dir=None, sr_image_shape='3, 32, 128', sr_batch_num=1, draw_img_save_dir='./inference_results', save_crop_res=False, crop_res_save_dir='./output', use_mp=False, total_process_num=1, process_id=0, benchmark=False, save_log_path='./log_output/', show_log=True, use_onnx=False, output='./output', table_max_len=488, table_algorithm='TableAttn', table_model_dir=None, merge_no_span_structure=True, table_char_dict_path=None, layout_model_dir=None, layout_dict_path=None, layout_score_threshold=0.5, layout_nms_threshold=0.5, kie_algorithm='LayoutXLM', ser_model_dir=None, re_model_dir=None, use_visual_backbone=True, ser_dict_path='../train_data/XFUND/class_list_xfun.txt', ocr_order_method=None, mode='structure', image_orientation=False, layout=True, table=True, ocr=True, recovery=False, use_pdf2docx_api=False, lang='en', det=True, rec=True, type='ocr', ocr_version='PP-OCRv3', structure_version='PP-StructureV2', det_max_side_len=3200)\n",
      "Have ser\n",
      "請開始說話...\n",
      "辨識結果：驗證\n",
      "ABC\n",
      "[2023/06/14 10:51:49] ppocr DEBUG: dt_boxes num : 6, elapse : 0.17353391647338867\n",
      "[2023/06/14 10:51:49] ppocr DEBUG: cls num  : 6, elapse : 0.044879913330078125\n",
      "[2023/06/14 10:51:49] ppocr DEBUG: rec_res num  : 6, elapse : 0.1138765811920166\n",
      "請開始說話...\n",
      "辨識結果：拍攝\n",
      "error\n",
      "請開始說話...\n",
      "again\n",
      "請開始說話...\n",
      "again\n",
      "請開始說話...\n"
     ]
    },
    {
     "ename": "KeyboardInterrupt",
     "evalue": "",
     "output_type": "error",
     "traceback": [
      "\u001b[1;31m---------------------------------------------------------------------------\u001b[0m",
      "\u001b[1;31mKeyboardInterrupt\u001b[0m                         Traceback (most recent call last)",
      "\u001b[1;32m~\\AppData\\Local\\Temp\\ipykernel_31632\\106345821.py\u001b[0m in \u001b[0;36m<module>\u001b[1;34m\u001b[0m\n\u001b[0;32m     36\u001b[0m     \u001b[1;32mwith\u001b[0m \u001b[0msr\u001b[0m\u001b[1;33m.\u001b[0m\u001b[0mMicrophone\u001b[0m\u001b[1;33m(\u001b[0m\u001b[1;33m)\u001b[0m \u001b[1;32mas\u001b[0m \u001b[0msource\u001b[0m\u001b[1;33m:\u001b[0m\u001b[1;33m\u001b[0m\u001b[1;33m\u001b[0m\u001b[0m\n\u001b[0;32m     37\u001b[0m         \u001b[0mprint\u001b[0m\u001b[1;33m(\u001b[0m\u001b[1;34m\"請開始說話...\"\u001b[0m\u001b[1;33m)\u001b[0m\u001b[1;33m\u001b[0m\u001b[1;33m\u001b[0m\u001b[0m\n\u001b[1;32m---> 38\u001b[1;33m         \u001b[0maudio\u001b[0m \u001b[1;33m=\u001b[0m \u001b[0mr\u001b[0m\u001b[1;33m.\u001b[0m\u001b[0mlisten\u001b[0m\u001b[1;33m(\u001b[0m\u001b[0msource\u001b[0m\u001b[1;33m)\u001b[0m\u001b[1;33m\u001b[0m\u001b[1;33m\u001b[0m\u001b[0m\n\u001b[0m\u001b[0;32m     39\u001b[0m     \u001b[1;32mtry\u001b[0m\u001b[1;33m:\u001b[0m\u001b[1;33m\u001b[0m\u001b[1;33m\u001b[0m\u001b[0m\n\u001b[0;32m     40\u001b[0m         \u001b[0mtext\u001b[0m \u001b[1;33m=\u001b[0m \u001b[0mr\u001b[0m\u001b[1;33m.\u001b[0m\u001b[0mrecognize_google\u001b[0m\u001b[1;33m(\u001b[0m\u001b[0maudio\u001b[0m\u001b[1;33m,\u001b[0m \u001b[0mlanguage\u001b[0m\u001b[1;33m=\u001b[0m\u001b[1;34m'zh-TW'\u001b[0m\u001b[1;33m)\u001b[0m\u001b[1;33m\u001b[0m\u001b[1;33m\u001b[0m\u001b[0m\n",
      "\u001b[1;32mc:\\Users\\a23a2\\anaconda3\\envs\\work\\lib\\site-packages\\speech_recognition\\__init__.py\u001b[0m in \u001b[0;36mlisten\u001b[1;34m(self, source, timeout, phrase_time_limit, snowboy_configuration)\u001b[0m\n\u001b[0;32m    521\u001b[0m                     \u001b[1;32mbreak\u001b[0m\u001b[1;33m\u001b[0m\u001b[1;33m\u001b[0m\u001b[0m\n\u001b[0;32m    522\u001b[0m \u001b[1;33m\u001b[0m\u001b[0m\n\u001b[1;32m--> 523\u001b[1;33m                 \u001b[0mbuffer\u001b[0m \u001b[1;33m=\u001b[0m \u001b[0msource\u001b[0m\u001b[1;33m.\u001b[0m\u001b[0mstream\u001b[0m\u001b[1;33m.\u001b[0m\u001b[0mread\u001b[0m\u001b[1;33m(\u001b[0m\u001b[0msource\u001b[0m\u001b[1;33m.\u001b[0m\u001b[0mCHUNK\u001b[0m\u001b[1;33m)\u001b[0m\u001b[1;33m\u001b[0m\u001b[1;33m\u001b[0m\u001b[0m\n\u001b[0m\u001b[0;32m    524\u001b[0m                 \u001b[1;32mif\u001b[0m \u001b[0mlen\u001b[0m\u001b[1;33m(\u001b[0m\u001b[0mbuffer\u001b[0m\u001b[1;33m)\u001b[0m \u001b[1;33m==\u001b[0m \u001b[1;36m0\u001b[0m\u001b[1;33m:\u001b[0m \u001b[1;32mbreak\u001b[0m  \u001b[1;31m# reached end of the stream\u001b[0m\u001b[1;33m\u001b[0m\u001b[1;33m\u001b[0m\u001b[0m\n\u001b[0;32m    525\u001b[0m                 \u001b[0mframes\u001b[0m\u001b[1;33m.\u001b[0m\u001b[0mappend\u001b[0m\u001b[1;33m(\u001b[0m\u001b[0mbuffer\u001b[0m\u001b[1;33m)\u001b[0m\u001b[1;33m\u001b[0m\u001b[1;33m\u001b[0m\u001b[0m\n",
      "\u001b[1;32mc:\\Users\\a23a2\\anaconda3\\envs\\work\\lib\\site-packages\\speech_recognition\\__init__.py\u001b[0m in \u001b[0;36mread\u001b[1;34m(self, size)\u001b[0m\n\u001b[0;32m    197\u001b[0m \u001b[1;33m\u001b[0m\u001b[0m\n\u001b[0;32m    198\u001b[0m         \u001b[1;32mdef\u001b[0m \u001b[0mread\u001b[0m\u001b[1;33m(\u001b[0m\u001b[0mself\u001b[0m\u001b[1;33m,\u001b[0m \u001b[0msize\u001b[0m\u001b[1;33m)\u001b[0m\u001b[1;33m:\u001b[0m\u001b[1;33m\u001b[0m\u001b[1;33m\u001b[0m\u001b[0m\n\u001b[1;32m--> 199\u001b[1;33m             \u001b[1;32mreturn\u001b[0m \u001b[0mself\u001b[0m\u001b[1;33m.\u001b[0m\u001b[0mpyaudio_stream\u001b[0m\u001b[1;33m.\u001b[0m\u001b[0mread\u001b[0m\u001b[1;33m(\u001b[0m\u001b[0msize\u001b[0m\u001b[1;33m,\u001b[0m \u001b[0mexception_on_overflow\u001b[0m\u001b[1;33m=\u001b[0m\u001b[1;32mFalse\u001b[0m\u001b[1;33m)\u001b[0m\u001b[1;33m\u001b[0m\u001b[1;33m\u001b[0m\u001b[0m\n\u001b[0m\u001b[0;32m    200\u001b[0m \u001b[1;33m\u001b[0m\u001b[0m\n\u001b[0;32m    201\u001b[0m         \u001b[1;32mdef\u001b[0m \u001b[0mclose\u001b[0m\u001b[1;33m(\u001b[0m\u001b[0mself\u001b[0m\u001b[1;33m)\u001b[0m\u001b[1;33m:\u001b[0m\u001b[1;33m\u001b[0m\u001b[1;33m\u001b[0m\u001b[0m\n",
      "\u001b[1;32mc:\\Users\\a23a2\\anaconda3\\envs\\work\\lib\\site-packages\\pyaudio.py\u001b[0m in \u001b[0;36mread\u001b[1;34m(self, num_frames, exception_on_overflow)\u001b[0m\n\u001b[0;32m    606\u001b[0m                           paCanNotReadFromAnOutputOnlyStream)\n\u001b[0;32m    607\u001b[0m \u001b[1;33m\u001b[0m\u001b[0m\n\u001b[1;32m--> 608\u001b[1;33m         \u001b[1;32mreturn\u001b[0m \u001b[0mpa\u001b[0m\u001b[1;33m.\u001b[0m\u001b[0mread_stream\u001b[0m\u001b[1;33m(\u001b[0m\u001b[0mself\u001b[0m\u001b[1;33m.\u001b[0m\u001b[0m_stream\u001b[0m\u001b[1;33m,\u001b[0m \u001b[0mnum_frames\u001b[0m\u001b[1;33m,\u001b[0m \u001b[0mexception_on_overflow\u001b[0m\u001b[1;33m)\u001b[0m\u001b[1;33m\u001b[0m\u001b[1;33m\u001b[0m\u001b[0m\n\u001b[0m\u001b[0;32m    609\u001b[0m \u001b[1;33m\u001b[0m\u001b[0m\n\u001b[0;32m    610\u001b[0m     \u001b[1;32mdef\u001b[0m \u001b[0mget_read_available\u001b[0m\u001b[1;33m(\u001b[0m\u001b[0mself\u001b[0m\u001b[1;33m)\u001b[0m\u001b[1;33m:\u001b[0m\u001b[1;33m\u001b[0m\u001b[1;33m\u001b[0m\u001b[0m\n",
      "\u001b[1;31mKeyboardInterrupt\u001b[0m: "
     ]
    }
   ],
   "source": [
    "#idchack\n",
    "def ocr_info_to_location(ocr_info, acc=0):\n",
    "    bboxs = None\n",
    "    for info in ocr_info:\n",
    "        if info[1][1] >= acc:\n",
    "            info[0] = np.array(info[0], dtype=np.uint32)\n",
    "            bbox = np.array([info[0][:, 1].min(), info[0][:, 0].min(\n",
    "            ), info[0][:, 1].max(), info[0][:, 0].max(), info[1][0]])\n",
    "            bboxs = np.array(\n",
    "                [bbox]) if bboxs is None else np.vstack(\n",
    "                (bboxs, bbox))\n",
    "    #['174' '143' '229' '260' '姓老张学彬']\n",
    "    return bboxs\n",
    "ocr = PaddleOCR(use_angle_cls=True,\n",
    "                lang='en',\n",
    "                use_gpu=False,\n",
    "                enable_mkldnn=True,\n",
    "                # rec_batch_num=30,\n",
    "                det_max_side_len=3200,\n",
    "                drop_score=0,  \n",
    "                det_db_score_mode='slow',\n",
    "                # det_db_box_thresh=0,\n",
    "                # det_db_thresh=0.01\n",
    "               )\n",
    "\n",
    "try:\n",
    "    ser = serial.Serial('COM8', 9600)  # 根据实际情况修改串口号\n",
    "except:\n",
    "    print(\"Have ser\")\n",
    "\n",
    "# 创建VideoCapture对象，参数为摄像头索引号（通常为0，表示默认摄像头）\n",
    "\n",
    "ChackID=0\n",
    "while True:\n",
    "    # 从摄像头捕获一帧图像\n",
    "    with sr.Microphone() as source:\n",
    "        print(\"請開始說話...\")\n",
    "        audio = r.listen(source)\n",
    "    try:\n",
    "        text = r.recognize_google(audio, language='zh-TW')\n",
    "    except: \n",
    "        print(\"again\")\n",
    "        continue\n",
    "    print(\"辨識結果：\" + text)\n",
    "    if(text==\"驗證\"):\n",
    "        cap = cv2.VideoCapture(0)\n",
    "        cap.set(cv2.CAP_PROP_FRAME_WIDTH, 1920)  # 设置帧宽度\n",
    "        cap.set(cv2.CAP_PROP_FRAME_HEIGHT, 1080)  # 设置帧高度\n",
    "        while(True):\n",
    "            \n",
    "            ret, frame = cap.read()\n",
    "            H=frame.shape[0]\n",
    "            W=frame.shape[1]\n",
    "            CH=H//2\n",
    "            CW=W//2\n",
    "            center=(CW,CH)\n",
    "            OG=frame.copy()\n",
    "            # frame=cv2.flip(frame, 1)\n",
    "            # 如果成功捕获图像，则处理并显示\n",
    "            cv2.rectangle(frame, (CW-400,CH-250), (CW+400,CH+250), (255, 0, 0), 5)\n",
    "            # cv2.circle(frame,(50, 50), 15, (255, 0, 0), -1) # blue\n",
    "            cv2.imshow('Camera', frame)\n",
    "            if (ser.in_waiting):  # 如果串口接收缓冲区有数据\n",
    "                data = ser.readline().decode().rstrip()  # 读取一行数据并移除换行符\n",
    "                img=OG[CH-250:CH+250,CW-400:CW+400]\n",
    "                print(\"ABC\")\n",
    "                break\n",
    "            # 按下ESC键退出循环\n",
    "            if cv2.waitKey(1) == 27:\n",
    "                break\n",
    "        cap.release()\n",
    "        cv2.destroyAllWindows()\n",
    "        BOX=ocr_info_to_location(ocr.ocr(img)[0])\n",
    "    elif (text==\"拍攝\"):\n",
    "# 释放VideoCapture对象和窗口\n",
    "        try:\n",
    "            for i in BOX:\n",
    "                match = re.match(pattern, i[4])\n",
    "                if match:\n",
    "                    string=i[4]\n",
    "                    # print(\"符合正則表達式\")\n",
    "            # ID=contact_to_server.get_id_list()\n",
    "            ID=[\"M11107509\"]\n",
    "            for j in ID:\n",
    "                if j==string:\n",
    "                    YAPS=1\n",
    "                    print(\"OK\")\n",
    "                \n",
    "            if(YAPS==1):\n",
    "                cap = cv2.VideoCapture(0)\n",
    "                cap.set(cv2.CAP_PROP_FRAME_WIDTH, 1920)  # 设置帧宽度\n",
    "                cap.set(cv2.CAP_PROP_FRAME_HEIGHT, 1080)  # 设置帧高度\n",
    "                ChackID=0\n",
    "                frames = []\n",
    "                Catch=0\n",
    "                start_time = None\n",
    "                while True:\n",
    "                    # 从摄像头捕获一帧图像\n",
    "                    ret, frame = cap.read()\n",
    "                    H=frame.shape[0]\n",
    "                    W=frame.shape[1]\n",
    "                    CH=H//2\n",
    "                    CW=W//2\n",
    "                    center=(CW,CH)\n",
    "                    OG=frame.copy()\n",
    "                    # frame=cv2.flip(frame, 1)\n",
    "                    # 如果成功捕获图像，则处理并显示\n",
    "                    cv2.rectangle(frame, (CW-350,CH-350), (CW+350,CH+350), (255, 0, 0), 5)\n",
    "                    # cv2.circle(frame,(50, 50), 15, (255, 0, 0), -1) # blue\n",
    "                    cv2.imshow('Camera', frame)\n",
    "                    if (ser.in_waiting and Catch==0):  # 如果串口接收缓冲区有数据\n",
    "                        data = ser.readline().decode().rstrip()  # 读取一行数据并移除换行符\n",
    "                        frames = []\n",
    "                        print(\"START\")\n",
    "                        start_time =time.time()\n",
    "                        Catch=1\n",
    "                    if(Catch==1):\n",
    "                        frames.append(OG[CH-350:CH+350,CW-350:CW+350])\n",
    "                    \n",
    "                    # 按下ESC键退出循环\n",
    "                    if cv2.waitKey(1) == 27:\n",
    "                        break\n",
    "                    if start_time is not None and time.time() - start_time >= 5 and Catch==1:\n",
    "                        Catch=0\n",
    "                        print(\"STOP\")\n",
    "                        break\n",
    "\n",
    "                # 释放VideoCapture对象和窗口\n",
    "                cap.release()\n",
    "                cv2.destroyAllWindows()\n",
    "                frames=np.array(frames)\n",
    "                imgs = np.stack(frames[[0,75,151]], axis=3)\n",
    "                contact_to_server.update_person_img(imgs)\n",
    "                contact_to_server.decrease_waiting_person()\n",
    "            else:\n",
    "                print(\"error\")\n",
    "        except:\n",
    "            print(\"Error\")\n",
    "                \n",
    "\n",
    "\n",
    "\n",
    "\n"
   ]
  },
  {
   "cell_type": "code",
   "execution_count": 7,
   "metadata": {},
   "outputs": [
    {
     "data": {
      "text/plain": [
       "(151, 700, 700, 3)"
      ]
     },
     "execution_count": 7,
     "metadata": {},
     "output_type": "execute_result"
    }
   ],
   "source": [
    "np.array(frames).shape"
   ]
  },
  {
   "cell_type": "code",
   "execution_count": 12,
   "metadata": {},
   "outputs": [
    {
     "data": {
      "text/plain": [
       "(700, 700, 3, 3)"
      ]
     },
     "execution_count": 12,
     "metadata": {},
     "output_type": "execute_result"
    }
   ],
   "source": [
    "imgs.shape"
   ]
  },
  {
   "cell_type": "code",
   "execution_count": null,
   "metadata": {},
   "outputs": [],
   "source": []
  },
  {
   "cell_type": "code",
   "execution_count": 8,
   "metadata": {},
   "outputs": [],
   "source": [
    "ser.close()"
   ]
  },
  {
   "cell_type": "code",
   "execution_count": 1,
   "metadata": {},
   "outputs": [
    {
     "name": "stdout",
     "output_type": "stream",
     "text": [
      "[2023/06/14 03:31:39] ppocr DEBUG: Namespace(help='==SUPPRESS==', use_gpu=False, use_xpu=False, use_npu=False, ir_optim=True, use_tensorrt=False, min_subgraph_size=15, precision='fp32', gpu_mem=500, image_dir=None, page_num=0, det_algorithm='DB', det_model_dir='C:\\\\Users\\\\a23a2/.paddleocr/whl\\\\det\\\\en\\\\en_PP-OCRv3_det_infer', det_limit_side_len=960, det_limit_type='max', det_box_type='quad', det_db_thresh=0.3, det_db_box_thresh=0.6, det_db_unclip_ratio=1.5, max_batch_size=10, use_dilation=False, det_db_score_mode='slow', det_east_score_thresh=0.8, det_east_cover_thresh=0.1, det_east_nms_thresh=0.2, det_sast_score_thresh=0.5, det_sast_nms_thresh=0.2, det_pse_thresh=0, det_pse_box_thresh=0.85, det_pse_min_area=16, det_pse_scale=1, scales=[8, 16, 32], alpha=1.0, beta=1.0, fourier_degree=5, rec_algorithm='SVTR_LCNet', rec_model_dir='C:\\\\Users\\\\a23a2/.paddleocr/whl\\\\rec\\\\en\\\\en_PP-OCRv3_rec_infer', rec_image_inverse=True, rec_image_shape='3, 48, 320', rec_batch_num=6, max_text_length=25, rec_char_dict_path='c:\\\\Users\\\\a23a2\\\\anaconda3\\\\envs\\\\work\\\\lib\\\\site-packages\\\\paddleocr\\\\ppocr\\\\utils\\\\en_dict.txt', use_space_char=True, vis_font_path='./doc/fonts/simfang.ttf', drop_score=0, e2e_algorithm='PGNet', e2e_model_dir=None, e2e_limit_side_len=768, e2e_limit_type='max', e2e_pgnet_score_thresh=0.5, e2e_char_dict_path='./ppocr/utils/ic15_dict.txt', e2e_pgnet_valid_set='totaltext', e2e_pgnet_mode='fast', use_angle_cls=True, cls_model_dir='C:\\\\Users\\\\a23a2/.paddleocr/whl\\\\cls\\\\ch_ppocr_mobile_v2.0_cls_infer', cls_image_shape='3, 48, 192', label_list=['0', '180'], cls_batch_num=6, cls_thresh=0.9, enable_mkldnn=True, cpu_threads=10, use_pdserving=False, warmup=False, sr_model_dir=None, sr_image_shape='3, 32, 128', sr_batch_num=1, draw_img_save_dir='./inference_results', save_crop_res=False, crop_res_save_dir='./output', use_mp=False, total_process_num=1, process_id=0, benchmark=False, save_log_path='./log_output/', show_log=True, use_onnx=False, output='./output', table_max_len=488, table_algorithm='TableAttn', table_model_dir=None, merge_no_span_structure=True, table_char_dict_path=None, layout_model_dir=None, layout_dict_path=None, layout_score_threshold=0.5, layout_nms_threshold=0.5, kie_algorithm='LayoutXLM', ser_model_dir=None, re_model_dir=None, use_visual_backbone=True, ser_dict_path='../train_data/XFUND/class_list_xfun.txt', ocr_order_method=None, mode='structure', image_orientation=False, layout=True, table=True, ocr=True, recovery=False, use_pdf2docx_api=False, lang='en', det=True, rec=True, type='ocr', ocr_version='PP-OCRv3', structure_version='PP-StructureV2', det_max_side_len=3200)\n"
     ]
    },
    {
     "ename": "",
     "evalue": "",
     "output_type": "error",
     "traceback": [
      "\u001b[1;31m無法執行程式碼，已處置工作階段。請嘗試重新啟動核心。"
     ]
    },
    {
     "ename": "",
     "evalue": "",
     "output_type": "error",
     "traceback": [
      "\u001b[1;31m在目前儲存格或上一個儲存格中執行程式碼時，Kernel 已損毀。請檢閱儲存格中的程式碼，找出失敗的可能原因。如需詳細資訊，請按一下<a href='https://aka.ms/vscodeJupyterKernelCrash'>這裡</a>。檢視 Jupyter <a href='command:jupyter.viewOutput'>記錄</a>，以取得進一步的詳細資料。"
     ]
    }
   ],
   "source": [
    "#idchack\n",
    "import speech_recognition as sr\n",
    "import time\n",
    "import cv2\n",
    "import contact_to_server\n",
    "import serial\n",
    "import numpy as np\n",
    "from paddleocr import PaddleOCR, draw_ocr\n",
    "from paddleocr import paddleocr\n",
    "YAPS=0\n",
    "r = sr.Recognizer()\n",
    "def ocr_info_to_location(ocr_info, acc=0):\n",
    "    bboxs = None\n",
    "    for info in ocr_info:\n",
    "        if info[1][1] >= acc:\n",
    "            info[0] = np.array(info[0], dtype=np.uint32)\n",
    "            bbox = np.array([info[0][:, 1].min(), info[0][:, 0].min(\n",
    "            ), info[0][:, 1].max(), info[0][:, 0].max(), info[1][0]])\n",
    "            bboxs = np.array(\n",
    "                [bbox]) if bboxs is None else np.vstack(\n",
    "                (bboxs, bbox))\n",
    "    #['174' '143' '229' '260' '姓老张学彬']\n",
    "    return bboxs\n",
    "ocr = PaddleOCR(use_angle_cls=True,\n",
    "                lang='en',\n",
    "                use_gpu=False,\n",
    "                enable_mkldnn=True,\n",
    "                # rec_batch_num=30,\n",
    "                det_max_side_len=3200,\n",
    "                drop_score=0,  \n",
    "                det_db_score_mode='slow',\n",
    "                # det_db_box_thresh=0,\n",
    "                # det_db_thresh=0.01\n",
    "               )\n",
    "\n",
    "try:\n",
    "    ser = serial.Serial('COM8', 9600)  # 根据实际情况修改串口号\n",
    "except:\n",
    "    print(\"Have ser\")\n",
    "\n",
    "# 创建VideoCapture对象，参数为摄像头索引号（通常为0，表示默认摄像头）\n",
    "cap = cv2.VideoCapture(0)\n",
    "cap.set(cv2.CAP_PROP_FRAME_WIDTH, 1920)  # 设置帧宽度\n",
    "cap.set(cv2.CAP_PROP_FRAME_HEIGHT, 1080)  # 设置帧高度\n",
    "ChackID=0\n",
    "while True:\n",
    "    # 从摄像头捕获一帧图像\n",
    "    text=\"\"\n",
    "    with sr.Microphone() as source:\n",
    "        print(\"請開始說話...\")\n",
    "        audio = r.listen(source)\n",
    "    text = r.recognize_google(audio, language='zh-TW')\n",
    "    print(\"辨識結果：\" + text)\n",
    "    if(text==\"驗證\"):\n",
    "        while(True):\n",
    "            ret, frame = cap.read()\n",
    "            H=frame.shape[0]\n",
    "            W=frame.shape[1]\n",
    "            CH=H//2\n",
    "            CW=W//2\n",
    "            center=(CW,CH)\n",
    "            OG=frame.copy()\n",
    "            # frame=cv2.flip(frame, 1)\n",
    "            # 如果成功捕获图像，则处理并显示\n",
    "            cv2.rectangle(frame, (CW-400,CH-250), (CW+400,CH+250), (255, 0, 0), 5)\n",
    "            # cv2.circle(frame,(50, 50), 15, (255, 0, 0), -1) # blue\n",
    "            cv2.imshow('Camera', frame)\n",
    "            if (ser.in_waiting):  # 如果串口接收缓冲区有数据\n",
    "                data = ser.readline().decode().rstrip()  # 读取一行数据并移除换行符\n",
    "                img=OG[CH-250:CH+250,CW-400:CW+400]\n",
    "                print(\"ABC\")\n",
    "                break\n",
    "            # 按下ESC键退出循环\n",
    "            if cv2.waitKey(1) == 27:\n",
    "                break\n",
    "\n",
    "# 释放VideoCapture对象和窗口\n",
    "cap.release()\n",
    "cv2.destroyAllWindows()\n",
    "BOX=ocr_info_to_location(ocr.ocr(img)[0])\n",
    "import re\n",
    "pattern = r\"[A-Z]\\d{8}\"\n",
    "\n",
    "for i in BOX:\n",
    "    match = re.match(pattern, i[4])\n",
    "    if match:\n",
    "        string=i[4]\n",
    "        print(\"符合正則表達式\")\n",
    "    else:\n",
    "        print(\"不符合正則表達式\")\n",
    "ID=contact_to_server.get_id_list()\n",
    "for i in ID:\n",
    "    if i==string:\n",
    "        YAPS=1\n",
    "        print(\"OK\")\n",
    "if(YAPS==1):\n",
    "    cap = cv2.VideoCapture(0)\n",
    "    cap.set(cv2.CAP_PROP_FRAME_WIDTH, 1920)  # 设置帧宽度\n",
    "    cap.set(cv2.CAP_PROP_FRAME_HEIGHT, 1080)  # 设置帧高度\n",
    "    ChackID=0\n",
    "    frames = []\n",
    "    Catch=0\n",
    "    start_time = None\n",
    "    while True:\n",
    "        # 从摄像头捕获一帧图像\n",
    "        if (ser.in_waiting and ChackID==0):  # 如果串口接收缓冲区有数据\n",
    "            data = ser.readline().decode().rstrip()  # 读取一行数据并移除换行符\n",
    "            print(\"Sure\")  # 输出数据\n",
    "            ChackID=1\n",
    "        if(ChackID==1):\n",
    "            ret, frame = cap.read()\n",
    "            H=frame.shape[0]\n",
    "            W=frame.shape[1]\n",
    "            CH=H//2\n",
    "            CW=W//2\n",
    "            center=(CW,CH)\n",
    "            OG=frame.copy()\n",
    "            # frame=cv2.flip(frame, 1)\n",
    "            # 如果成功捕获图像，则处理并显示\n",
    "            cv2.rectangle(frame, (CW-350,CH-350), (CW+350,CH+350), (255, 0, 0), 5)\n",
    "            # cv2.circle(frame,(50, 50), 15, (255, 0, 0), -1) # blue\n",
    "            cv2.imshow('Camera', frame)\n",
    "            if (ser.in_waiting and Catch==0):  # 如果串口接收缓冲区有数据\n",
    "                data = ser.readline().decode().rstrip()  # 读取一行数据并移除换行符\n",
    "                frames = []\n",
    "                print(\"START\")\n",
    "                start_time =time.time()\n",
    "                Catch=1\n",
    "            if(Catch==1):\n",
    "                frames.append(OG[CH-350:CH+350,CW-350:CW+350])\n",
    "            \n",
    "            # 按下ESC键退出循环\n",
    "            if cv2.waitKey(1) == 27:\n",
    "                break\n",
    "            if start_time is not None and time.time() - start_time >= 5 and Catch==1:\n",
    "                Catch=0\n",
    "                print(\"STOP\")\n",
    "                break\n",
    "\n",
    "    # 释放VideoCapture对象和窗口\n",
    "    cap.release()\n",
    "    cv2.destroyAllWindows()\n",
    "    frames=np.array(frames)\n",
    "    imgs = np.stack(frames[[0,75,151]], axis=3)\n",
    "    contact_to_server.update_person_img(imgs)\n",
    "else:\n",
    "    print(\"Error\")\n",
    "    "
   ]
  },
  {
   "cell_type": "code",
   "execution_count": 89,
   "metadata": {},
   "outputs": [],
   "source": [
    "frames=np.array(frames)\n",
    "imgs = np.stack(frames[[0,75,151]], axis=3)"
   ]
  },
  {
   "cell_type": "code",
   "execution_count": 93,
   "metadata": {},
   "outputs": [],
   "source": [
    "contact_to_server.update_person_img(imgs)"
   ]
  },
  {
   "cell_type": "code",
   "execution_count": 95,
   "metadata": {},
   "outputs": [
    {
     "data": {
      "text/plain": [
       "[]"
      ]
     },
     "execution_count": 95,
     "metadata": {},
     "output_type": "execute_result"
    }
   ],
   "source": [
    "contact_to_server.get_car_information()"
   ]
  },
  {
   "cell_type": "code",
   "execution_count": 74,
   "metadata": {},
   "outputs": [],
   "source": [
    "ironman_arange = np.arange(0,151,75) #建立一個依序填滿的陣列 0到20間隔為2"
   ]
  },
  {
   "cell_type": "code",
   "execution_count": 73,
   "metadata": {},
   "outputs": [
    {
     "data": {
      "text/plain": [
       "(700, 700, 3, 152)"
      ]
     },
     "execution_count": 73,
     "metadata": {},
     "output_type": "execute_result"
    }
   ],
   "source": [
    "imgs.shape"
   ]
  },
  {
   "cell_type": "code",
   "execution_count": 65,
   "metadata": {},
   "outputs": [
    {
     "data": {
      "text/plain": [
       "[]"
      ]
     },
     "execution_count": 65,
     "metadata": {},
     "output_type": "execute_result"
    }
   ],
   "source": [
    "ID"
   ]
  },
  {
   "cell_type": "code",
   "execution_count": 25,
   "metadata": {},
   "outputs": [
    {
     "name": "stdout",
     "output_type": "stream",
     "text": [
      "Sure\n",
      "START\n",
      "STOP\n"
     ]
    },
    {
     "ename": "KeyboardInterrupt",
     "evalue": "",
     "output_type": "error",
     "traceback": [
      "\u001b[1;31m---------------------------------------------------------------------------\u001b[0m",
      "\u001b[1;31mKeyboardInterrupt\u001b[0m                         Traceback (most recent call last)",
      "\u001b[1;32m~\\AppData\\Local\\Temp\\ipykernel_26228\\4176302482.py\u001b[0m in \u001b[0;36m<module>\u001b[1;34m\u001b[0m\n\u001b[0;32m     20\u001b[0m         \u001b[0mChackID\u001b[0m\u001b[1;33m=\u001b[0m\u001b[1;36m1\u001b[0m\u001b[1;33m\u001b[0m\u001b[1;33m\u001b[0m\u001b[0m\n\u001b[0;32m     21\u001b[0m     \u001b[1;32mif\u001b[0m\u001b[1;33m(\u001b[0m\u001b[0mChackID\u001b[0m\u001b[1;33m==\u001b[0m\u001b[1;36m1\u001b[0m\u001b[1;33m)\u001b[0m\u001b[1;33m:\u001b[0m\u001b[1;33m\u001b[0m\u001b[1;33m\u001b[0m\u001b[0m\n\u001b[1;32m---> 22\u001b[1;33m         \u001b[0mret\u001b[0m\u001b[1;33m,\u001b[0m \u001b[0mframe\u001b[0m \u001b[1;33m=\u001b[0m \u001b[0mcap\u001b[0m\u001b[1;33m.\u001b[0m\u001b[0mread\u001b[0m\u001b[1;33m(\u001b[0m\u001b[1;33m)\u001b[0m\u001b[1;33m\u001b[0m\u001b[1;33m\u001b[0m\u001b[0m\n\u001b[0m\u001b[0;32m     23\u001b[0m         \u001b[0mH\u001b[0m\u001b[1;33m=\u001b[0m\u001b[0mframe\u001b[0m\u001b[1;33m.\u001b[0m\u001b[0mshape\u001b[0m\u001b[1;33m[\u001b[0m\u001b[1;36m0\u001b[0m\u001b[1;33m]\u001b[0m\u001b[1;33m\u001b[0m\u001b[1;33m\u001b[0m\u001b[0m\n\u001b[0;32m     24\u001b[0m         \u001b[0mW\u001b[0m\u001b[1;33m=\u001b[0m\u001b[0mframe\u001b[0m\u001b[1;33m.\u001b[0m\u001b[0mshape\u001b[0m\u001b[1;33m[\u001b[0m\u001b[1;36m1\u001b[0m\u001b[1;33m]\u001b[0m\u001b[1;33m\u001b[0m\u001b[1;33m\u001b[0m\u001b[0m\n",
      "\u001b[1;31mKeyboardInterrupt\u001b[0m: "
     ]
    }
   ],
   "source": [
    "#錄製段落\n",
    "import cv2\n",
    "import serial\n",
    "import time \n",
    "# ser = serial.Serial('COM8', 9600)  # 根据实际情况修改串口号\n",
    "\n",
    "# 创建VideoCapture对象，参数为摄像头索引号（通常为0，表示默认摄像头）\n",
    "cap = cv2.VideoCapture(0)\n",
    "cap.set(cv2.CAP_PROP_FRAME_WIDTH, 1920)  # 设置帧宽度\n",
    "cap.set(cv2.CAP_PROP_FRAME_HEIGHT, 1080)  # 设置帧高度\n",
    "ChackID=0\n",
    "frames = []\n",
    "Catch=0\n",
    "start_time = None\n",
    "while True:\n",
    "    # 从摄像头捕获一帧图像\n",
    "    if (ser.in_waiting and ChackID==0):  # 如果串口接收缓冲区有数据\n",
    "        data = ser.readline().decode().rstrip()  # 读取一行数据并移除换行符\n",
    "        print(\"Sure\")  # 输出数据\n",
    "        ChackID=1\n",
    "    if(ChackID==1):\n",
    "        ret, frame = cap.read()\n",
    "        H=frame.shape[0]\n",
    "        W=frame.shape[1]\n",
    "        CH=H//2\n",
    "        CW=W//2\n",
    "        center=(CW,CH)\n",
    "        OG=frame.copy()\n",
    "        # frame=cv2.flip(frame, 1)\n",
    "        # 如果成功捕获图像，则处理并显示\n",
    "        cv2.rectangle(frame, (CW-350,CH-350), (CW+350,CH+350), (255, 0, 0), 5)\n",
    "        # cv2.circle(frame,(50, 50), 15, (255, 0, 0), -1) # blue\n",
    "        cv2.imshow('Camera', frame)\n",
    "        if (ser.in_waiting and Catch==0):  # 如果串口接收缓冲区有数据\n",
    "            data = ser.readline().decode().rstrip()  # 读取一行数据并移除换行符\n",
    "            frames = []\n",
    "            print(\"START\")\n",
    "            start_time =time.time()\n",
    "            Catch=1\n",
    "        if(Catch==1):\n",
    "            frames.append(OG[CH-350:CH+350,CW-350:CW+350])\n",
    "        \n",
    "        # 按下ESC键退出循环\n",
    "        if cv2.waitKey(1) == 27:\n",
    "            break\n",
    "        if start_time is not None and time.time() - start_time >= 5 and Catch==1:\n",
    "            Catch=0\n",
    "            print(\"STOP\")\n",
    "\n",
    "# 释放VideoCapture对象和窗口\n",
    "cap.release()\n",
    "cv2.destroyAllWindows()"
   ]
  },
  {
   "cell_type": "code",
   "execution_count": 38,
   "metadata": {},
   "outputs": [],
   "source": [
    "import contact_to_server\n",
    "ID=contact_to_server.get_id_list()"
   ]
  },
  {
   "cell_type": "code",
   "execution_count": 44,
   "metadata": {},
   "outputs": [
    {
     "name": "stdout",
     "output_type": "stream",
     "text": [
      "M11107509\n",
      "M11107509\n"
     ]
    }
   ],
   "source": [
    "ID\n",
    "print(string)\n",
    "print(ID[3])"
   ]
  },
  {
   "cell_type": "code",
   "execution_count": 45,
   "metadata": {},
   "outputs": [
    {
     "name": "stdout",
     "output_type": "stream",
     "text": [
      "True\n"
     ]
    }
   ],
   "source": [
    "print(ID[3]==string)"
   ]
  },
  {
   "cell_type": "code",
   "execution_count": 51,
   "metadata": {},
   "outputs": [
    {
     "ename": "AttributeError",
     "evalue": "'list' object has no attribute 'shape'",
     "output_type": "error",
     "traceback": [
      "\u001b[1;31m---------------------------------------------------------------------------\u001b[0m",
      "\u001b[1;31mAttributeError\u001b[0m                            Traceback (most recent call last)",
      "\u001b[1;32m~\\AppData\\Local\\Temp\\ipykernel_26228\\769455375.py\u001b[0m in \u001b[0;36m<module>\u001b[1;34m\u001b[0m\n\u001b[1;32m----> 1\u001b[1;33m \u001b[0mframes\u001b[0m\u001b[1;33m.\u001b[0m\u001b[0mshape\u001b[0m\u001b[1;33m\u001b[0m\u001b[1;33m\u001b[0m\u001b[0m\n\u001b[0m",
      "\u001b[1;31mAttributeError\u001b[0m: 'list' object has no attribute 'shape'"
     ]
    }
   ],
   "source": [
    "frames.shape"
   ]
  },
  {
   "cell_type": "code",
   "execution_count": 62,
   "metadata": {},
   "outputs": [],
   "source": [
    "contact_to_server.update_person_img(imgs)"
   ]
  },
  {
   "cell_type": "code",
   "execution_count": 60,
   "metadata": {},
   "outputs": [],
   "source": [
    "X=contact_to_server.get_person_img()"
   ]
  },
  {
   "cell_type": "code",
   "execution_count": 61,
   "metadata": {},
   "outputs": [
    {
     "data": {
      "text/plain": [
       "[]"
      ]
     },
     "execution_count": 61,
     "metadata": {},
     "output_type": "execute_result"
    }
   ],
   "source": [
    "X"
   ]
  },
  {
   "cell_type": "code",
   "execution_count": 46,
   "metadata": {},
   "outputs": [
    {
     "name": "stdout",
     "output_type": "stream",
     "text": [
      "OK\n"
     ]
    }
   ],
   "source": [
    "for i in ID:\n",
    "    if i==string:\n",
    "        print(\"OK\")"
   ]
  },
  {
   "cell_type": "code",
   "execution_count": 54,
   "metadata": {},
   "outputs": [],
   "source": [
    "imgs = np.stack(frames[0:2], axis=3)"
   ]
  },
  {
   "cell_type": "code",
   "execution_count": 58,
   "metadata": {},
   "outputs": [
    {
     "data": {
      "text/plain": [
       "(700, 700, 3, 2)"
      ]
     },
     "execution_count": 58,
     "metadata": {},
     "output_type": "execute_result"
    }
   ],
   "source": [
    "imgs.shape"
   ]
  },
  {
   "cell_type": "code",
   "execution_count": 53,
   "metadata": {},
   "outputs": [
    {
     "ename": "AxisError",
     "evalue": "axis 3 is out of bounds for array of dimension 3",
     "output_type": "error",
     "traceback": [
      "\u001b[1;31m---------------------------------------------------------------------------\u001b[0m",
      "\u001b[1;31mAxisError\u001b[0m                                 Traceback (most recent call last)",
      "\u001b[1;32m~\\AppData\\Local\\Temp\\ipykernel_26228\\4154734325.py\u001b[0m in \u001b[0;36m<module>\u001b[1;34m\u001b[0m\n\u001b[1;32m----> 1\u001b[1;33m \u001b[0mimgs\u001b[0m \u001b[1;33m=\u001b[0m \u001b[0mnp\u001b[0m\u001b[1;33m.\u001b[0m\u001b[0mstack\u001b[0m\u001b[1;33m(\u001b[0m\u001b[0mframe\u001b[0m\u001b[1;33m,\u001b[0m \u001b[0maxis\u001b[0m\u001b[1;33m=\u001b[0m\u001b[1;36m3\u001b[0m\u001b[1;33m)\u001b[0m\u001b[1;33m\u001b[0m\u001b[1;33m\u001b[0m\u001b[0m\n\u001b[0m",
      "\u001b[1;32m<__array_function__ internals>\u001b[0m in \u001b[0;36mstack\u001b[1;34m(*args, **kwargs)\u001b[0m\n",
      "\u001b[1;32mc:\\Users\\a23a2\\anaconda3\\envs\\work\\lib\\site-packages\\numpy\\core\\shape_base.py\u001b[0m in \u001b[0;36mstack\u001b[1;34m(arrays, axis, out)\u001b[0m\n\u001b[0;32m    427\u001b[0m \u001b[1;33m\u001b[0m\u001b[0m\n\u001b[0;32m    428\u001b[0m     \u001b[0mresult_ndim\u001b[0m \u001b[1;33m=\u001b[0m \u001b[0marrays\u001b[0m\u001b[1;33m[\u001b[0m\u001b[1;36m0\u001b[0m\u001b[1;33m]\u001b[0m\u001b[1;33m.\u001b[0m\u001b[0mndim\u001b[0m \u001b[1;33m+\u001b[0m \u001b[1;36m1\u001b[0m\u001b[1;33m\u001b[0m\u001b[1;33m\u001b[0m\u001b[0m\n\u001b[1;32m--> 429\u001b[1;33m     \u001b[0maxis\u001b[0m \u001b[1;33m=\u001b[0m \u001b[0mnormalize_axis_index\u001b[0m\u001b[1;33m(\u001b[0m\u001b[0maxis\u001b[0m\u001b[1;33m,\u001b[0m \u001b[0mresult_ndim\u001b[0m\u001b[1;33m)\u001b[0m\u001b[1;33m\u001b[0m\u001b[1;33m\u001b[0m\u001b[0m\n\u001b[0m\u001b[0;32m    430\u001b[0m \u001b[1;33m\u001b[0m\u001b[0m\n\u001b[0;32m    431\u001b[0m     \u001b[0msl\u001b[0m \u001b[1;33m=\u001b[0m \u001b[1;33m(\u001b[0m\u001b[0mslice\u001b[0m\u001b[1;33m(\u001b[0m\u001b[1;32mNone\u001b[0m\u001b[1;33m)\u001b[0m\u001b[1;33m,\u001b[0m\u001b[1;33m)\u001b[0m \u001b[1;33m*\u001b[0m \u001b[0maxis\u001b[0m \u001b[1;33m+\u001b[0m \u001b[1;33m(\u001b[0m\u001b[0m_nx\u001b[0m\u001b[1;33m.\u001b[0m\u001b[0mnewaxis\u001b[0m\u001b[1;33m,\u001b[0m\u001b[1;33m)\u001b[0m\u001b[1;33m\u001b[0m\u001b[1;33m\u001b[0m\u001b[0m\n",
      "\u001b[1;31mAxisError\u001b[0m: axis 3 is out of bounds for array of dimension 3"
     ]
    }
   ],
   "source": [
    "imgs = np.stack(frames, axis=3)"
   ]
  },
  {
   "cell_type": "code",
   "execution_count": 29,
   "metadata": {},
   "outputs": [
    {
     "data": {
      "text/plain": [
       "(700, 700, 3, 151)"
      ]
     },
     "execution_count": 29,
     "metadata": {},
     "output_type": "execute_result"
    }
   ],
   "source": [
    "imgs.shape"
   ]
  },
  {
   "cell_type": "code",
   "execution_count": 13,
   "metadata": {},
   "outputs": [
    {
     "name": "stdout",
     "output_type": "stream",
     "text": [
      "sure\n",
      "sure\n",
      "sure\n"
     ]
    },
    {
     "ename": "KeyboardInterrupt",
     "evalue": "",
     "output_type": "error",
     "traceback": [
      "\u001b[1;31m---------------------------------------------------------------------------\u001b[0m",
      "\u001b[1;31mKeyboardInterrupt\u001b[0m                         Traceback (most recent call last)",
      "\u001b[1;32m~\\AppData\\Local\\Temp\\ipykernel_8116\\1672541002.py\u001b[0m in \u001b[0;36m<module>\u001b[1;34m\u001b[0m\n\u001b[0;32m      5\u001b[0m \u001b[1;33m\u001b[0m\u001b[0m\n\u001b[0;32m      6\u001b[0m \u001b[1;32mwhile\u001b[0m \u001b[1;32mTrue\u001b[0m\u001b[1;33m:\u001b[0m\u001b[1;33m\u001b[0m\u001b[1;33m\u001b[0m\u001b[0m\n\u001b[1;32m----> 7\u001b[1;33m     \u001b[1;32mif\u001b[0m \u001b[0mser\u001b[0m\u001b[1;33m.\u001b[0m\u001b[0min_waiting\u001b[0m\u001b[1;33m:\u001b[0m  \u001b[1;31m# 如果串口接收缓冲区有数据\u001b[0m\u001b[1;33m\u001b[0m\u001b[1;33m\u001b[0m\u001b[0m\n\u001b[0m\u001b[0;32m      8\u001b[0m         \u001b[0mdata\u001b[0m \u001b[1;33m=\u001b[0m \u001b[0mser\u001b[0m\u001b[1;33m.\u001b[0m\u001b[0mreadline\u001b[0m\u001b[1;33m(\u001b[0m\u001b[1;33m)\u001b[0m\u001b[1;33m.\u001b[0m\u001b[0mdecode\u001b[0m\u001b[1;33m(\u001b[0m\u001b[1;33m)\u001b[0m\u001b[1;33m.\u001b[0m\u001b[0mrstrip\u001b[0m\u001b[1;33m(\u001b[0m\u001b[1;33m)\u001b[0m  \u001b[1;31m# 读取一行数据并移除换行符\u001b[0m\u001b[1;33m\u001b[0m\u001b[1;33m\u001b[0m\u001b[0m\n\u001b[0;32m      9\u001b[0m         \u001b[0mprint\u001b[0m\u001b[1;33m(\u001b[0m\u001b[1;34m\"sure\"\u001b[0m\u001b[1;33m)\u001b[0m  \u001b[1;31m# 输出数据\u001b[0m\u001b[1;33m\u001b[0m\u001b[1;33m\u001b[0m\u001b[0m\n",
      "\u001b[1;32mc:\\Users\\a23a2\\anaconda3\\envs\\work\\lib\\site-packages\\serial\\serialwin32.py\u001b[0m in \u001b[0;36min_waiting\u001b[1;34m(self)\u001b[0m\n\u001b[0;32m    256\u001b[0m         \u001b[0mflags\u001b[0m \u001b[1;33m=\u001b[0m \u001b[0mwin32\u001b[0m\u001b[1;33m.\u001b[0m\u001b[0mDWORD\u001b[0m\u001b[1;33m(\u001b[0m\u001b[1;33m)\u001b[0m\u001b[1;33m\u001b[0m\u001b[1;33m\u001b[0m\u001b[0m\n\u001b[0;32m    257\u001b[0m         \u001b[0mcomstat\u001b[0m \u001b[1;33m=\u001b[0m \u001b[0mwin32\u001b[0m\u001b[1;33m.\u001b[0m\u001b[0mCOMSTAT\u001b[0m\u001b[1;33m(\u001b[0m\u001b[1;33m)\u001b[0m\u001b[1;33m\u001b[0m\u001b[1;33m\u001b[0m\u001b[0m\n\u001b[1;32m--> 258\u001b[1;33m         \u001b[1;32mif\u001b[0m \u001b[1;32mnot\u001b[0m \u001b[0mwin32\u001b[0m\u001b[1;33m.\u001b[0m\u001b[0mClearCommError\u001b[0m\u001b[1;33m(\u001b[0m\u001b[0mself\u001b[0m\u001b[1;33m.\u001b[0m\u001b[0m_port_handle\u001b[0m\u001b[1;33m,\u001b[0m \u001b[0mctypes\u001b[0m\u001b[1;33m.\u001b[0m\u001b[0mbyref\u001b[0m\u001b[1;33m(\u001b[0m\u001b[0mflags\u001b[0m\u001b[1;33m)\u001b[0m\u001b[1;33m,\u001b[0m \u001b[0mctypes\u001b[0m\u001b[1;33m.\u001b[0m\u001b[0mbyref\u001b[0m\u001b[1;33m(\u001b[0m\u001b[0mcomstat\u001b[0m\u001b[1;33m)\u001b[0m\u001b[1;33m)\u001b[0m\u001b[1;33m:\u001b[0m\u001b[1;33m\u001b[0m\u001b[1;33m\u001b[0m\u001b[0m\n\u001b[0m\u001b[0;32m    259\u001b[0m             \u001b[1;32mraise\u001b[0m \u001b[0mSerialException\u001b[0m\u001b[1;33m(\u001b[0m\u001b[1;34m\"ClearCommError failed ({!r})\"\u001b[0m\u001b[1;33m.\u001b[0m\u001b[0mformat\u001b[0m\u001b[1;33m(\u001b[0m\u001b[0mctypes\u001b[0m\u001b[1;33m.\u001b[0m\u001b[0mWinError\u001b[0m\u001b[1;33m(\u001b[0m\u001b[1;33m)\u001b[0m\u001b[1;33m)\u001b[0m\u001b[1;33m)\u001b[0m\u001b[1;33m\u001b[0m\u001b[1;33m\u001b[0m\u001b[0m\n\u001b[0;32m    260\u001b[0m         \u001b[1;32mreturn\u001b[0m \u001b[0mcomstat\u001b[0m\u001b[1;33m.\u001b[0m\u001b[0mcbInQue\u001b[0m\u001b[1;33m\u001b[0m\u001b[1;33m\u001b[0m\u001b[0m\n",
      "\u001b[1;31mKeyboardInterrupt\u001b[0m: "
     ]
    }
   ],
   "source": [
    "import serial\n",
    "\n",
    "# 打开串口\n",
    "# ser = serial.Serial('COM8', 9600)  # 根据实际情况修改串口号\n",
    "\n",
    "while True:\n",
    "    if ser.in_waiting:  # 如果串口接收缓冲区有数据\n",
    "        data = ser.readline().decode().rstrip()  # 读取一行数据并移除换行符\n",
    "        print(\"sure\")  # 输出数据"
   ]
  },
  {
   "cell_type": "code",
   "execution_count": null,
   "metadata": {},
   "outputs": [],
   "source": [
    "import cv2\n",
    "\n",
    "# 创建VideoCapture对象，参数为摄像头索引号（通常为0，表示默认摄像头）\n",
    "cap = cv2.VideoCapture(0)\n",
    "cap.set(cv2.CAP_PROP_FRAME_WIDTH, 1920)  # 设置帧宽度\n",
    "cap.set(cv2.CAP_PROP_FRAME_HEIGHT, 1080)  # 设置帧高度\n",
    "while True:\n",
    "    # 从摄像头捕获一帧图像\n",
    "    ret, frame = cap.read()\n",
    "\n",
    "    # 如果成功捕获图像，则处理并显示\n",
    "    if ret:\n",
    "        # 在图像上进行其他处理（例如，灰度化、边缘检测等）\n",
    "        # ...\n",
    "\n",
    "        # 显示图像\n",
    "        cv2.imshow('Camera', frame)\n",
    "\n",
    "    # 按下ESC键退出循环\n",
    "    if cv2.waitKey(1) == 27:\n",
    "        break\n",
    "\n",
    "# 释放VideoCapture对象和窗口\n",
    "cap.release()\n",
    "cv2.destroyAllWindows()"
   ]
  },
  {
   "cell_type": "code",
   "execution_count": null,
   "metadata": {},
   "outputs": [],
   "source": [
    "frame.shape"
   ]
  },
  {
   "cell_type": "code",
   "execution_count": null,
   "metadata": {},
   "outputs": [],
   "source": [
    "import serial\n",
    "\n",
    "# 打开串口\n",
    "ser = serial.Serial('COM8', 9600)  # 根据实际情况修改串口号\n",
    "\n",
    "while True:\n",
    "\n",
    "    if ser.in_waiting:  # 如果串口接收缓冲区有数据\n",
    "        data = ser.readline().decode().rstrip()  # 读取一行数据并移除换行符\n",
    "        print(\"Sure\")  # 输出数据"
   ]
  },
  {
   "cell_type": "code",
   "execution_count": 1,
   "metadata": {},
   "outputs": [
    {
     "name": "stdout",
     "output_type": "stream",
     "text": [
      "Sure\n",
      "ABC\n"
     ]
    }
   ],
   "source": [
    "import cv2\n",
    "import serial\n",
    "ser = serial.Serial('COM8', 9600)  # 根据实际情况修改串口号\n",
    "\n",
    "# 创建VideoCapture对象，参数为摄像头索引号（通常为0，表示默认摄像头）\n",
    "cap = cv2.VideoCapture(0)\n",
    "cap.set(cv2.CAP_PROP_FRAME_WIDTH, 1920)  # 设置帧宽度\n",
    "cap.set(cv2.CAP_PROP_FRAME_HEIGHT, 1080)  # 设置帧高度\n",
    "ChackID=0\n",
    "while True:\n",
    "    # 从摄像头捕获一帧图像\n",
    "    if (ser.in_waiting and ChackID==0):  # 如果串口接收缓冲区有数据\n",
    "        data = ser.readline().decode().rstrip()  # 读取一行数据并移除换行符\n",
    "        print(\"Sure\")  # 输出数据\n",
    "        ChackID=1\n",
    "    if(ChackID==1):\n",
    "        ret, frame = cap.read()\n",
    "        H=frame.shape[0]\n",
    "        W=frame.shape[1]\n",
    "        CH=H//2\n",
    "        CW=W//2\n",
    "        center=(CW,CH)\n",
    "        OG=frame.copy()\n",
    "        # frame=cv2.flip(frame, 1)\n",
    "        # 如果成功捕获图像，则处理并显示\n",
    "        cv2.rectangle(frame, (CW-400,CH-250), (CW+400,CH+250), (255, 0, 0), 5)\n",
    "        # cv2.circle(frame,(50, 50), 15, (255, 0, 0), -1) # blue\n",
    "        cv2.imshow('Camera', frame)\n",
    "        if (ser.in_waiting):  # 如果串口接收缓冲区有数据\n",
    "            data = ser.readline().decode().rstrip()  # 读取一行数据并移除换行符\n",
    "            img=OG[290:790,560:1360]\n",
    "            print(\"ABC\")\n",
    "            break\n",
    "        # 按下ESC键退出循环\n",
    "        if cv2.waitKey(1) == 27:\n",
    "            break\n",
    "\n",
    "# 释放VideoCapture对象和窗口\n",
    "cap.release()\n",
    "cv2.destroyAllWindows()"
   ]
  },
  {
   "cell_type": "code",
   "execution_count": 3,
   "metadata": {},
   "outputs": [],
   "source": [
    "cv2.imshow(\"ABC\",img)\n",
    "cv2.waitKey(0)\n",
    "cv2.destroyAllWindows()"
   ]
  },
  {
   "cell_type": "code",
   "execution_count": 22,
   "metadata": {},
   "outputs": [
    {
     "name": "stdout",
     "output_type": "stream",
     "text": [
      "Sure\n",
      "START\n",
      "STOP\n"
     ]
    }
   ],
   "source": [
    "import cv2\n",
    "import serial\n",
    "import time \n",
    "# ser = serial.Serial('COM8', 9600)  # 根据实际情况修改串口号\n",
    "\n",
    "# 创建VideoCapture对象，参数为摄像头索引号（通常为0，表示默认摄像头）\n",
    "cap = cv2.VideoCapture(0)\n",
    "cap.set(cv2.CAP_PROP_FRAME_WIDTH, 1920)  # 设置帧宽度\n",
    "cap.set(cv2.CAP_PROP_FRAME_HEIGHT, 1080)  # 设置帧高度\n",
    "ChackID=0\n",
    "frames = []\n",
    "Catch=0\n",
    "start_time = None\n",
    "while True:\n",
    "    # 从摄像头捕获一帧图像\n",
    "    if (ser.in_waiting and ChackID==0):  # 如果串口接收缓冲区有数据\n",
    "        data = ser.readline().decode().rstrip()  # 读取一行数据并移除换行符\n",
    "        print(\"Sure\")  # 输出数据\n",
    "        ChackID=1\n",
    "    if(ChackID==1):\n",
    "        ret, frame = cap.read()\n",
    "        H=frame.shape[0]\n",
    "        W=frame.shape[1]\n",
    "        CH=H//2\n",
    "        CW=W//2\n",
    "        center=(CW,CH)\n",
    "        OG=frame.copy()\n",
    "        # frame=cv2.flip(frame, 1)\n",
    "        # 如果成功捕获图像，则处理并显示\n",
    "        cv2.rectangle(frame, (CW-350,CH-350), (CW+350,CH+350), (255, 0, 0), 5)\n",
    "        # cv2.circle(frame,(50, 50), 15, (255, 0, 0), -1) # blue\n",
    "        cv2.imshow('Camera', frame)\n",
    "        if (ser.in_waiting and Catch==0):  # 如果串口接收缓冲区有数据\n",
    "            data = ser.readline().decode().rstrip()  # 读取一行数据并移除换行符\n",
    "            frames = []\n",
    "            print(\"START\")\n",
    "            start_time =time.time()\n",
    "            Catch=1\n",
    "        if(Catch==1):\n",
    "            frames.append(OG[CH-350:CH+350,CW-350:CW+350])\n",
    "        \n",
    "        # 按下ESC键退出循环\n",
    "        if cv2.waitKey(1) == 27:\n",
    "            break\n",
    "        if start_time is not None and time.time() - start_time >= 5 and Catch==1:\n",
    "            Catch=0\n",
    "            print(\"STOP\")\n",
    "\n",
    "# 释放VideoCapture对象和窗口\n",
    "cap.release()\n",
    "cv2.destroyAllWindows()"
   ]
  },
  {
   "cell_type": "code",
   "execution_count": null,
   "metadata": {},
   "outputs": [],
   "source": [
    "frames = np.stack(frames, axis=3)"
   ]
  },
  {
   "cell_type": "code",
   "execution_count": 21,
   "metadata": {},
   "outputs": [],
   "source": [
    "for i, frame in enumerate(frames):\n",
    "    cv2.imwrite(f\"frame_{i}.jpg\", frame)"
   ]
  },
  {
   "cell_type": "code",
   "execution_count": 23,
   "metadata": {},
   "outputs": [
    {
     "data": {
      "text/plain": [
       "(151, 700, 700, 3)"
      ]
     },
     "execution_count": 23,
     "metadata": {},
     "output_type": "execute_result"
    }
   ],
   "source": [
    "temp=np.array(frames)\n",
    "temp.shape\n"
   ]
  },
  {
   "cell_type": "code",
   "execution_count": 33,
   "metadata": {},
   "outputs": [],
   "source": [
    "import cv2\n",
    "import socket\n",
    "import pickle\n",
    "import numpy as np\n",
    "\n",
    "# 建立Socket連接\n",
    "s = socket.socket(socket.AF_INET, socket.SOCK_STREAM)\n",
    "receiver_ip = '192.168.1.197'\n",
    "receiver_port = 12345\n",
    "s.connect((receiver_ip, receiver_port))\n",
    "\n",
    "\n",
    "# 將影像序列化為字節流\n",
    "frames = np.stack(frames, axis=3)\n",
    "# img=cv2.imread(\"frame_101.jpg\")\n",
    "data = pickle.dumps(frames)\n",
    "\n",
    "# 傳送影像資料\n",
    "s.sendall(data)\n",
    "\n",
    "# 關閉連接\n",
    "s.close()"
   ]
  },
  {
   "cell_type": "code",
   "execution_count": 11,
   "metadata": {},
   "outputs": [],
   "source": [
    "import cv2\n",
    "import time \n",
    "\n",
    "# 设置摄像头索引，一般为0表示默认摄像头\n",
    "camera_index = 0\n",
    "\n",
    "# 创建VideoCapture对象，打开摄像头\n",
    "cap = cv2.VideoCapture(camera_index)\n",
    "\n",
    "# 创建空列表用于存储帧图像\n",
    "frames = []\n",
    "\n",
    "while True:\n",
    "    # 读取摄像头的每一帧\n",
    "    ret, frame = cap.read()\n",
    "\n",
    "    # 检查是否成功读取帧\n",
    "    if not ret:\n",
    "        break\n",
    "\n",
    "    # 将帧图像添加到列表中\n",
    "    frames.append(frame)\n",
    "\n",
    "    # 显示帧\n",
    "    cv2.imshow(\"Frame\", frame)\n",
    "\n",
    "    # 按下 'q' 键退出循环\n",
    "    if cv2.waitKey(1) & 0xFF == ord('q'):\n",
    "        break\n",
    "\n",
    "# 释放资源\n",
    "cap.release()\n",
    "cv2.destroyAllWindows()\n",
    "\n",
    "# 遍历列表并保存每一帧图像\n",
    "\n"
   ]
  },
  {
   "cell_type": "code",
   "execution_count": 15,
   "metadata": {},
   "outputs": [],
   "source": [
    "import numpy as np\n",
    "temp=np.array(frames)"
   ]
  },
  {
   "cell_type": "code",
   "execution_count": 16,
   "metadata": {},
   "outputs": [
    {
     "data": {
      "text/plain": [
       "(191, 480, 640, 3)"
      ]
     },
     "execution_count": 16,
     "metadata": {},
     "output_type": "execute_result"
    }
   ],
   "source": [
    "temp.shape"
   ]
  },
  {
   "cell_type": "code",
   "execution_count": 4,
   "metadata": {},
   "outputs": [],
   "source": [
    "import cv2\n",
    "\n",
    "# 创建VideoCapture对象，参数为摄像头索引号（通常为0，表示默认摄像头）\n",
    "cap = cv2.VideoCapture(0)\n",
    "cap.set(cv2.CAP_PROP_FRAME_WIDTH, 1920)  # 设置帧宽度\n",
    "cap.set(cv2.CAP_PROP_FRAME_HEIGHT, 1080)  # 设置帧高度\n",
    "cx, cy = 200, 200  # 头部框中心坐标\n",
    "rx, ry = 100, 150  # 长轴和短轴长度\n",
    "while True:\n",
    "    # 从摄像头捕获一帧图像\n",
    "    ret, frame = cap.read()\n",
    "\n",
    "    # 如果成功捕获图像，则处理并显示\n",
    "    if ret:\n",
    "        # 在图像上进行其他处理（例如，灰度化、边缘检测等）\n",
    "        # ...\n",
    "\n",
    "        # 显示图像\n",
    "        cv2.ellipse(frame, (cx, cy), (rx, ry), 0, 0, 360, (0, 255, 0), 2)\n",
    "\n",
    "        cv2.imshow('Camera', frame)\n",
    "\n",
    "    # 按下ESC键退出循环\n",
    "    if cv2.waitKey(1) == 27:\n",
    "        break\n",
    "\n",
    "# 释放VideoCapture对象和窗口\n",
    "cap.release()\n",
    "cv2.destroyAllWindows()"
   ]
  },
  {
   "cell_type": "code",
   "execution_count": null,
   "metadata": {},
   "outputs": [],
   "source": []
  },
  {
   "cell_type": "code",
   "execution_count": 3,
   "metadata": {},
   "outputs": [],
   "source": [
    "import cv2\n",
    "import serial\n",
    "# ser = serial.Serial('COM8', 9600)  # 根据实际情况修改串口号\n",
    "\n",
    "# 创建VideoCapture对象，参数为摄像头索引号（通常为0，表示默认摄像头）\n",
    "cap = cv2.VideoCapture(0)\n",
    "cap.set(cv2.CAP_PROP_FRAME_WIDTH, 1920)  # 设置帧宽度\n",
    "cap.set(cv2.CAP_PROP_FRAME_HEIGHT, 1080)  # 设置帧高度\n",
    "ChackID=1\n",
    "while True:\n",
    "\n",
    "    if(ChackID==1):\n",
    "        ret, frame = cap.read()\n",
    "        H=frame.shape[0]\n",
    "        W=frame.shape[1]\n",
    "        CH=H//2\n",
    "        CW=W//2\n",
    "        center=(CW,CH)\n",
    "        OG=frame.copy()\n",
    "        # frame=cv2.flip(frame, 1)\n",
    "        # 如果成功捕获图像，则处理并显示\n",
    "        # cv2.rectangle(frame, (CW-400,CH-250), (CW+400,CH+250), (255, 0, 0), 5)\n",
    "        # cv2.circle(frame,(50, 50), 15, (255, 0, 0), -1) # blue\n",
    "        cv2.imshow('Camera', frame)\n",
    "        # 按下ESC键退出循环\n",
    "        if cv2.waitKey(1) == 27:\n",
    "            break\n",
    "\n",
    "# 释放VideoCapture对象和窗口\n",
    "cap.release()\n",
    "cv2.destroyAllWindows()"
   ]
  },
  {
   "cell_type": "code",
   "execution_count": null,
   "metadata": {},
   "outputs": [],
   "source": [
    "frame.shape"
   ]
  },
  {
   "cell_type": "code",
   "execution_count": null,
   "metadata": {},
   "outputs": [],
   "source": [
    "cv2.imshow('Camera', frame)\n",
    "cv2.waitKey(0)\n",
    "cv2.destroyAllWindows()"
   ]
  },
  {
   "cell_type": "code",
   "execution_count": null,
   "metadata": {},
   "outputs": [],
   "source": [
    "import cv2\n",
    "cap = cv2.VideoCapture(0)\n",
    "cap.set(cv2.CAP_PROP_FRAME_WIDTH, 1280)  # 设置帧宽度\n",
    "cap.set(cv2.CAP_PROP_FRAME_HEIGHT, 720)  # 设置帧高度\n",
    "cv2.namedWindow('Camera', cv2.WINDOW_NORMAL)\n",
    "while True:\n",
    "    # 从摄像头捕获一帧图像\n",
    "    ret, frame = cap.read()\n",
    "\n",
    "    H,W=frame.shape[0:2]\n",
    "    \n",
    "    M=min(1920/W,1080/H)\n",
    "    MW=int(M*W)\n",
    "    MH=int(M*H)\n",
    "    cv2.resizeWindow('Camera', int(M*W),int(M*H))\n",
    "    # 如果成功捕获图像，则处理并显示\n",
    "    if ret:\n",
    "        # 在图像上进行其他处理（例如，灰度化、边缘检测等）\n",
    "        # ...\n",
    "\n",
    "        # 显示图像\n",
    "        cv2.imshow('Camera', frame)\n",
    "\n",
    "    # 按下ESC键退出循环\n",
    "    if cv2.waitKey(1) == 27:\n",
    "        break\n",
    "\n",
    "# 释放VideoCapture对象和窗口\n",
    "cap.release()\n",
    "cv2.destroyAllWindows()"
   ]
  },
  {
   "cell_type": "code",
   "execution_count": null,
   "metadata": {},
   "outputs": [],
   "source": [
    "import cv2\n",
    "\n",
    "# 创建VideoCapture对象，参数为摄像头索引号（通常为0，表示默认摄像头）\n",
    "cap = cv2.VideoCapture(0)\n",
    "\n",
    "# 定义放大倍数和放大镜半径\n",
    "zoom_factor = 2  # 放大倍数\n",
    "radius = 100     # 放大镜半径\n",
    "\n",
    "while True:\n",
    "    # 从摄像头捕获一帧图像\n",
    "    ret, frame = cap.read()\n",
    "\n",
    "    # 如果成功捕获图像，则处理并显示\n",
    "    if ret:\n",
    "        # 获取放大镜中心点坐标\n",
    "        x, y = cv2.getWindowImageRect('Camera')[:2]\n",
    "        center_x, center_y = x + frame.shape[1] // 2, y + frame.shape[0] // 2\n",
    "\n",
    "        # 根据放大倍数和半径计算放大镜区域\n",
    "        zoomed_area = frame[\n",
    "            center_y - radius: center_y + radius,\n",
    "            center_x - radius: center_x + radius\n",
    "        ]\n",
    "\n",
    "        # 调整放大镜区域大小为原始图像大小\n",
    "        zoomed_area = cv2.resize(zoomed_area, (frame.shape[1], frame.shape[0]))\n",
    "\n",
    "        # 在放大镜区域周围绘制圆形边框\n",
    "        cv2.circle(frame, (center_x, center_y), radius, (0, 255, 0), 2)\n",
    "\n",
    "        # 将放大镜区域与原始图像叠加显示\n",
    "        result = cv2.addWeighted(frame, 0.7, zoomed_area, 0.3, 0)\n",
    "\n",
    "        # 显示图像\n",
    "        cv2.imshow('Camera', result)\n",
    "\n",
    "    # 按下ESC键退出循环\n",
    "    if cv2.waitKey(1) == 27:\n",
    "        break\n",
    "\n",
    "# 释放VideoCapture对象和窗口\n",
    "cap.release()\n",
    "cv2.destroyAllWindows()"
   ]
  },
  {
   "cell_type": "code",
   "execution_count": null,
   "metadata": {},
   "outputs": [],
   "source": [
    "frame.shape"
   ]
  },
  {
   "cell_type": "code",
   "execution_count": null,
   "metadata": {},
   "outputs": [],
   "source": [
    "cv2.namedWindow('My Image', cv2.WINDOW_NORMAL)\n",
    "H,W=img.shape[0:2]\n",
    "M=min(1920/W,1080/H)\n",
    "cv2.resizeWindow('My Image', int(M*W),int(M*H))\n",
    "cv2.imshow('My Image', img)\n",
    "cv2.setMouseCallback('My Image', show_xy,img)  # 設定偵測事件的函式與視窗\n",
    "cv2.waitKey(0)\n",
    "cv2.destroyAllWindows()"
   ]
  },
  {
   "cell_type": "code",
   "execution_count": null,
   "metadata": {},
   "outputs": [],
   "source": [
    "type(data)"
   ]
  }
 ],
 "metadata": {
  "kernelspec": {
   "display_name": "test",
   "language": "python",
   "name": "python3"
  },
  "language_info": {
   "codemirror_mode": {
    "name": "ipython",
    "version": 3
   },
   "file_extension": ".py",
   "mimetype": "text/x-python",
   "name": "python",
   "nbconvert_exporter": "python",
   "pygments_lexer": "ipython3",
   "version": "3.9.13"
  },
  "orig_nbformat": 4
 },
 "nbformat": 4,
 "nbformat_minor": 2
}
